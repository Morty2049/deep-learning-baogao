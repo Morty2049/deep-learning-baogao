{
 "cells": [
  {
   "cell_type": "code",
   "execution_count": null,
   "metadata": {
    "collapsed": true
   },
   "outputs": [],
   "source": [
    "a = tf.constant(2.0, shape=[], dtype=tf.float32, name=\"a\")\n",
    "x = tf.Variable(initial_value=3.0, dtype=tf.float32)\n",
    "b = tf.placeholder(tf.float32, shape=[])\n",
    "f = tf.add(tf.multiply(a, x), b)\n",
    "with tf.Session() as session:\n",
    "    tf.global_variables_initializer().run()\n",
    "    result_f, result_a, result_x, result_b = session.run([f, a, x, b], feed_dict={b: -5})\n",
    "    \n",
    "    print(\"f = %.1f * %.1f + %.1f = %.1f\" % (result_a, result_x, result_b, result_f))\n",
    "    print(\"a = %.1f\" % a.eval()) \n",
    "    \n",
    "    x = x.assign_add(1.0)\n",
    "    print(\"x = %.1f\" % x.eval())    "
   ]
  }
 ],
 "metadata": {
  "kernelspec": {
   "display_name": "Python 3",
   "language": "python",
   "name": "python3"
  },
  "language_info": {
   "codemirror_mode": {
    "name": "ipython",
    "version": 3
   },
   "file_extension": ".py",
   "mimetype": "text/x-python",
   "name": "python",
   "nbconvert_exporter": "python",
   "pygments_lexer": "ipython3",
   "version": "3.5.3"
  }
 },
 "nbformat": 4,
 "nbformat_minor": 2
}
